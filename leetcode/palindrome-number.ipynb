{
 "cells": [
  {
   "cell_type": "markdown",
   "metadata": {},
   "source": [
    "<https://leetcode-cn.com/problems/palindrome-number/>"
   ]
  },
  {
   "cell_type": "code",
   "execution_count": 36,
   "metadata": {},
   "outputs": [],
   "source": [
    "class Solution:\n",
    "    def isPalindrome(self, x: int) -> bool:\n",
    "        if x < 0: return False\n",
    "        left_ten_digit = 1\n",
    "        while x >= left_ten_digit: \n",
    "            left_ten_digit = left_ten_digit * 10\n",
    "        left_ten_digit = left_ten_digit / 10\n",
    "        right_ten_digit = 10\n",
    "        while left_ten_digit >= 10:\n",
    "            if x // left_ten_digit != x % right_ten_digit: \n",
    "                return False\n",
    "            x = x % left_ten_digit\n",
    "            x = x // right_ten_digit\n",
    "            left_ten_digit = left_ten_digit / 100\n",
    "            \n",
    "        return True"
   ]
  }
 ],
 "metadata": {
  "kernelspec": {
   "display_name": "Python 3",
   "language": "python",
   "name": "python3"
  },
  "language_info": {
   "codemirror_mode": {
    "name": "ipython",
    "version": 3
   },
   "file_extension": ".py",
   "mimetype": "text/x-python",
   "name": "python",
   "nbconvert_exporter": "python",
   "pygments_lexer": "ipython3",
   "version": "3.7.1"
  }
 },
 "nbformat": 4,
 "nbformat_minor": 2
}
