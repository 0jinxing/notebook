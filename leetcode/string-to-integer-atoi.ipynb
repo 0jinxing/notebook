{
 "cells": [
  {
   "cell_type": "markdown",
   "metadata": {},
   "source": [
    "<https://leetcode.com/problems/string-to-integer-atoi/submissions/>"
   ]
  },
  {
   "cell_type": "code",
   "execution_count": 51,
   "metadata": {},
   "outputs": [],
   "source": [
    "import re\n",
    "\n",
    "class Solution:\n",
    "    def myAtoi(self, str: str) -> int:\n",
    "        match_result = re.search(r'^[+|-]?\\d+', str.strip())\n",
    "        if match_result == None: return 0\n",
    "        result = int(match_result.group())\n",
    "        # @HACK\n",
    "        result = min(max(- 2 ** 31, result), 2 ** 31 - 1)\n",
    "        return result"
   ]
  }
 ],
 "metadata": {
  "kernelspec": {
   "display_name": "Python 3",
   "language": "python",
   "name": "python3"
  },
  "language_info": {
   "codemirror_mode": {
    "name": "ipython",
    "version": 3
   },
   "file_extension": ".py",
   "mimetype": "text/x-python",
   "name": "python",
   "nbconvert_exporter": "python",
   "pygments_lexer": "ipython3",
   "version": "3.7.1"
  }
 },
 "nbformat": 4,
 "nbformat_minor": 2
}
