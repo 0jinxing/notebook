{
 "cells": [
  {
   "cell_type": "markdown",
   "metadata": {},
   "source": [
    "<https://leetcode.com/problems/regular-expression-matching/>\n",
    "\n",
    "还不懂，代理解"
   ]
  },
  {
   "cell_type": "code",
   "execution_count": 104,
   "metadata": {},
   "outputs": [],
   "source": [
    "class Solution:\n",
    "    def isMatch(self, s: str, p: str) -> bool:\n",
    "        len_s = len(s)\n",
    "        len_p = len(p)\n",
    "        \n",
    "        # dp[i][j] 代表 s[0:i] 和 p[0:j] 是否匹配\n",
    "        dp = [[False for j in range(len_p + 1)] for i in range(len_s + 1)]\n",
    "        dp[0][0] = True\n",
    "        \n",
    "        for i in range(len_s + 1):\n",
    "            for j in range(len_p + 1)[1:]:\n",
    "                if p[j - 1] == \"*\":\n",
    "                    dp[i][j] = dp[i][j - 2] or (i > 0 and (s[i - 1] == p[j - 2] or p[j - 2] == '.') and dp[i - 1][j])\n",
    "                else:\n",
    "                    dp[i][j] = i != 0 and dp[i - 1][j - 1] and (s[i - 1] == p[j - 1] or p[j - 1] == '.')\n",
    "                \n",
    "        return dp[len_s][len_p]"
   ]
  }
 ],
 "metadata": {
  "kernelspec": {
   "display_name": "Python 3",
   "language": "python",
   "name": "python3"
  },
  "language_info": {
   "codemirror_mode": {
    "name": "ipython",
    "version": 3
   },
   "file_extension": ".py",
   "mimetype": "text/x-python",
   "name": "python",
   "nbconvert_exporter": "python",
   "pygments_lexer": "ipython3",
   "version": "3.7.1"
  }
 },
 "nbformat": 4,
 "nbformat_minor": 2
}
