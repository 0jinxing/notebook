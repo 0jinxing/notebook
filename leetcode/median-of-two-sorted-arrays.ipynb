{
 "cells": [
  {
   "cell_type": "markdown",
   "metadata": {},
   "source": [
    "<https://leetcode.com/problems/median-of-two-sorted-arrays/>"
   ]
  },
  {
   "cell_type": "code",
   "execution_count": 42,
   "metadata": {},
   "outputs": [],
   "source": [
    "from typing import List\n",
    "\n",
    "def connect(list1: List, list2: List):\n",
    "    result = list1[0:]\n",
    "    len_list1 = len(list1)\n",
    "    len_list2 = len(list2)\n",
    "    result[len_list1:len_list2] = list2\n",
    "    return result\n",
    "\n",
    "# @TODO sort\n",
    "\n",
    "class Solution:\n",
    "    def findMedianSortedArrays(self, nums1: List[int], nums2: List[int]) -> float:\n",
    "        sorted_connect_nums = sorted(connect(nums1, nums2))\n",
    "        len_sorted_connect_nums = len(sorted_connect_nums)\n",
    "        if len_sorted_connect_nums % 2 == 0: \n",
    "            return (sorted_connect_nums[len_sorted_connect_nums // 2] + sorted_connect_nums[len_sorted_connect_nums // 2 - 1]) / 2\n",
    "        else:\n",
    "            return sorted_connect_nums[len_sorted_connect_nums // 2]"
   ]
  }
 ],
 "metadata": {
  "kernelspec": {
   "display_name": "Python 3",
   "language": "python",
   "name": "python3"
  },
  "language_info": {
   "codemirror_mode": {
    "name": "ipython",
    "version": 3
   },
   "file_extension": ".py",
   "mimetype": "text/x-python",
   "name": "python",
   "nbconvert_exporter": "python",
   "pygments_lexer": "ipython3",
   "version": "3.7.1"
  }
 },
 "nbformat": 4,
 "nbformat_minor": 2
}
